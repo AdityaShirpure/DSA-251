{
 "cells": [
  {
   "attachments": {},
   "cell_type": "markdown",
   "metadata": {},
   "source": [
    "### Sum Of Zeroes"
   ]
  },
  {
   "cell_type": "code",
   "execution_count": 5,
   "metadata": {},
   "outputs": [
    {
     "name": "stdout",
     "output_type": "stream",
     "text": [
      "2\n",
      "[1, 0] [0, 1]\n"
     ]
    }
   ],
   "source": [
    "#This function gives you the sum of coverages of all zeros of the given matrix\n",
    "def coverageOfMatrix(n,mat):\n",
    "    rows = len(mat)\n",
    "    columns = len(mat[0])\n",
    "    coverage = 0\n",
    "    for i in range(n):\n",
    "         \n",
    "\n",
    "#taking input form the user for n,matrix (using list comprehension)\n",
    "n = int(input())\n",
    "print(n)\n",
    "mat = [[int(j) for j in input().split()]for i in range(n)]\n",
    "print(*mat)\n",
    "print(coverageOfMatrix(n,mat))"
   ]
  },
  {
   "cell_type": "code",
   "execution_count": 4,
   "metadata": {},
   "outputs": [
    {
     "data": {
      "text/plain": [
       "[[1, 0], [0, 1]]"
      ]
     },
     "execution_count": 4,
     "metadata": {},
     "output_type": "execute_result"
    }
   ],
   "source": []
  },
  {
   "cell_type": "code",
   "execution_count": null,
   "metadata": {},
   "outputs": [],
   "source": []
  }
 ],
 "metadata": {
  "kernelspec": {
   "display_name": "Python 3",
   "language": "python",
   "name": "python3"
  },
  "language_info": {
   "codemirror_mode": {
    "name": "ipython",
    "version": 3
   },
   "file_extension": ".py",
   "mimetype": "text/x-python",
   "name": "python",
   "nbconvert_exporter": "python",
   "pygments_lexer": "ipython3",
   "version": "3.11.3"
  },
  "orig_nbformat": 4
 },
 "nbformat": 4,
 "nbformat_minor": 2
}
