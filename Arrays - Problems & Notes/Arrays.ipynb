{
 "cells": [
  {
   "attachments": {},
   "cell_type": "markdown",
   "metadata": {},
   "source": [
    "### Second Largest Element"
   ]
  },
  {
   "cell_type": "code",
   "execution_count": 18,
   "metadata": {},
   "outputs": [
    {
     "name": "stdout",
     "output_type": "stream",
     "text": [
      "1\n",
      "6\n",
      "7 8 8 1 4 3\n",
      "7\n"
     ]
    }
   ],
   "source": [
    "#This function Gives You the Second largest element of the arr/list\n",
    "def secondLargestElement(arr):\n",
    "    firstLargest = 0\n",
    "    secondLargest = 0\n",
    "    if len(arr) == 1: #case handled if len(arr) == 1\n",
    "        return -1\n",
    "    if arr[0] > arr[1]: #comparing and setting the first to initial values for first and second largest\n",
    "        firstLargest = arr[0]\n",
    "        secondLargest = arr[1]\n",
    "    else:\n",
    "        firstLargest = arr[1]\n",
    "        secondLargest = arr[0]\n",
    "    for i in range(2,len(arr)): #comparing elements to our first and second largest elements and again setting them up \n",
    "        if arr[i] > firstLargest:\n",
    "            secondLargest = firstLargest\n",
    "            firstLargest = arr[i]\n",
    "        elif arr[i] > secondLargest and arr[i] < firstLargest:\n",
    "            secondLargest = arr[i]\n",
    "        elif firstLargest == secondLargest: #corner case if every element is same there will not be any second largest so retrun -1\n",
    "            return - 1\n",
    "    return secondLargest\n",
    "\n",
    "#taking input for test_case len(arr) that is n & arr input using list comprehension\n",
    "test_case = int(input())\n",
    "print(test_case)\n",
    "n = int(input())\n",
    "print(n)\n",
    "arr = [int(i) for i in input().split()]\n",
    "print(*arr)\n",
    "print(secondLargestElement(arr))"
   ]
  },
  {
   "attachments": {},
   "cell_type": "markdown",
   "metadata": {},
   "source": [
    "### Rotate The Array By Kth Position"
   ]
  },
  {
   "cell_type": "code",
   "execution_count": 7,
   "metadata": {},
   "outputs": [
    {
     "name": "stdout",
     "output_type": "stream",
     "text": [
      "8\n",
      "7 5 2 11 2 43 1 1\n",
      "2 11 2 43 1 1 7 5\n",
      "2\n"
     ]
    }
   ],
   "source": [
    "#This function gives you an rotated array from the Kth point\n",
    "def rotateKth(n,arr,k):\n",
    "    temp_list = arr[k:] #Created a temporory list using indexing and Kth value  \n",
    "    for ele in range(k): #appending the element till Kth element in the end of temporay list\n",
    "        temp_list.append(arr[ele])\n",
    "    return temp_list\n",
    "\n",
    "#taking input from users for  n,k,arr (using list Comprehension)\n",
    "n = int(input())\n",
    "print(n)\n",
    "arr = [int(x) for x in input().split()]\n",
    "print(*arr)\n",
    "k = int(input())\n",
    "print(*rotateKth(n,arr,k))\n",
    "print(k)"
   ]
  },
  {
   "attachments": {},
   "cell_type": "markdown",
   "metadata": {},
   "source": [
    "### Non Decreasing Array"
   ]
  },
  {
   "cell_type": "code",
   "execution_count": 30,
   "metadata": {},
   "outputs": [
    {
     "name": "stdout",
     "output_type": "stream",
     "text": [
      "6\n",
      "-2 7 -1 0 1 2\n",
      "True\n"
     ]
    }
   ],
   "source": [
    "#This function gives you a boolean value ,whether we can sort the array by modifying at most one element or not.\n",
    "def nonDecreasingArr(n,arr):\n",
    "    modification = 0 #keeping a track for modifications\n",
    "    for i in range(n-1): #comparing two pointers\n",
    "        if  arr[i] > arr[i+1]:\n",
    "            modification = modification + 1\n",
    "            if modification > 1: #returning false if modification is greater than 1\n",
    "                return False\n",
    "            if i > 0 and arr[i-1] > arr[i+1]:#taking care of corner case like where i <= 0 \n",
    "                arr[i+1] = arr[i]\n",
    "            else:\n",
    "                arr[i] = arr[i+1]\n",
    "    return True\n",
    "\n",
    "#taking inputs from user for n,arr (using list comprehension)\n",
    "n = int(input())\n",
    "print(n)\n",
    "arr = [int(i) for i in input().split()]\n",
    "print(*arr)\n",
    "print(nonDecreasingArr(n,arr))"
   ]
  }
 ],
 "metadata": {
  "kernelspec": {
   "display_name": "Python 3",
   "language": "python",
   "name": "python3"
  },
  "language_info": {
   "codemirror_mode": {
    "name": "ipython",
    "version": 3
   },
   "file_extension": ".py",
   "mimetype": "text/x-python",
   "name": "python",
   "nbconvert_exporter": "python",
   "pygments_lexer": "ipython3",
   "version": "3.11.3"
  },
  "orig_nbformat": 4
 },
 "nbformat": 4,
 "nbformat_minor": 2
}
