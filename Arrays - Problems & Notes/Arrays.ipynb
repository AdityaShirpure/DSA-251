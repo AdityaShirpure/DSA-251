{
 "cells": [
  {
   "attachments": {},
   "cell_type": "markdown",
   "metadata": {},
   "source": [
    "### Second Largest Element"
   ]
  },
  {
   "cell_type": "code",
   "execution_count": 15,
   "metadata": {},
   "outputs": [
    {
     "data": {
      "text/plain": [
       "7"
      ]
     },
     "execution_count": 15,
     "metadata": {},
     "output_type": "execute_result"
    }
   ],
   "source": [
    "#This function Gives You the Second largest element of the arr/list\n",
    "def secondLargestElement(arr):\n",
    "    firstLargest = 0\n",
    "    secondLargest = 0\n",
    "    if len(arr) == 1: #case handled if len(arr) == 1\n",
    "        return -1\n",
    "    if arr[0] > arr[1]: #comparing and setting the first to initial values for first and second largest\n",
    "        firstLargest = arr[0]\n",
    "        secondLargest = arr[1]\n",
    "    else:\n",
    "        firstLargest = arr[1]\n",
    "        secondLargest = arr[0]\n",
    "    for i in range(2,len(arr)): #comparing elements to our first and second largest elements and again setting them up \n",
    "        if arr[i] > firstLargest:\n",
    "            secondLargest = firstLargest\n",
    "            firstLargest = arr[i]\n",
    "        elif arr[i] > secondLargest and arr[i] < firstLargest:\n",
    "            secondLargest = arr[i]\n",
    "        elif firstLargest == secondLargest: #corner case if every element is same there will not be any second largest so retrun -1\n",
    "            return - 1\n",
    "    return secondLargest\n",
    "\n",
    "#taking input for test_case len(arr) that is n & arr input using list comprehension\n",
    "test_case = int(input())\n",
    "n = int(input())\n",
    "arr = [int(i) for i in input().split()]\n",
    "secondLargestElement(arr)"
   ]
  }
 ],
 "metadata": {
  "kernelspec": {
   "display_name": "Python 3",
   "language": "python",
   "name": "python3"
  },
  "language_info": {
   "codemirror_mode": {
    "name": "ipython",
    "version": 3
   },
   "file_extension": ".py",
   "mimetype": "text/x-python",
   "name": "python",
   "nbconvert_exporter": "python",
   "pygments_lexer": "ipython3",
   "version": "3.11.3"
  },
  "orig_nbformat": 4
 },
 "nbformat": 4,
 "nbformat_minor": 2
}
